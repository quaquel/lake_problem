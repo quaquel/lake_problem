{
 "cells": [
  {
   "cell_type": "code",
   "execution_count": 11,
   "metadata": {
    "collapsed": true
   },
   "outputs": [],
   "source": [
    "from ema_workbench import (RealParameter, ScalarOutcome, Constant, \n",
    "                           ReplicatorModel)\n",
    "from lake_problem_dps import lake_model\n",
    "\n",
    "def process_p(values):\n",
    "    values = np.asarray(values)\n",
    "    values = np.mean(values, axis=0)\n",
    "    return np.max(values)\n",
    "\n",
    "def parameterize_model(name, c1, c2, r1, r2, w1):\n",
    "    assert -2 <= c1 <= 2\n",
    "    assert -2 <= c2 <= 2\n",
    "    assert 0 <= r1 <= 2\n",
    "    assert 0 <= r2 <= 2    \n",
    "    assert 0 <= w1 <= 1\n",
    "    \n",
    "    model = ReplicatorModel(name, function=lake_model)\n",
    "    model.replications = 150\n",
    "    \n",
    "    #specify uncertainties\n",
    "    model.uncertainties = [RealParameter('b', 0.1, 0.45),\n",
    "                           RealParameter('q', 2.0, 4.5),\n",
    "                           RealParameter('mean', 0.01, 0.05),\n",
    "                           RealParameter('stdev', 0.001, 0.005),\n",
    "                           RealParameter('delta', 0.93, 0.99)]\n",
    "    \n",
    "    # override some of the defaults of the model\n",
    "    model.constants = [Constant('alpha', 0.41),\n",
    "                       Constant('nsamples', 100),\n",
    "                       Constant('steps', 100),\n",
    "                       Constant('c1', c1),\n",
    "                       Constant('c2', c2),\n",
    "                       Constant('r1', r1),\n",
    "                       Constant('r2', r2),\n",
    "                       Constant('w1', w1),]\n",
    "\n",
    "\n",
    "    #specify outcomes \n",
    "    model.outcomes = [ScalarOutcome('max_P', kind=ScalarOutcome.MINIMIZE,\n",
    "                                    function=process_p),\n",
    "                      ScalarOutcome('utility', kind=ScalarOutcome.MAXIMIZE,\n",
    "                                    function=np.mean),\n",
    "                      ScalarOutcome('inertia', kind=ScalarOutcome.MINIMIZE,\n",
    "                                    function=np.mean),\n",
    "                      ScalarOutcome('reliability', kind=ScalarOutcome.MAXIMIZE,\n",
    "                                    function=np.mean)]\n",
    "    \n",
    "    return model\n",
    "    "
   ]
  },
  {
   "cell_type": "code",
   "execution_count": 12,
   "metadata": {},
   "outputs": [],
   "source": [
    "model1 = parameterize_model('model1', 1, 1, 1, 1, 0.5)\n",
    "model2 = parameterize_model('model2', 1, 1, 1, 1, 0.1)\n",
    "model3 = parameterize_model('model3', 1, 1, 1, 1, 0.9)\n",
    "\n",
    "models = [model1, model2, model3]"
   ]
  },
  {
   "cell_type": "code",
   "execution_count": 13,
   "metadata": {},
   "outputs": [
    {
     "name": "stderr",
     "output_type": "stream",
     "text": [
      "[MainProcess/INFO] pool started\n",
      "[MainProcess/INFO] performing 10 scenarios * 1 policies * 3 model(s) = 30 experiments\n",
      "[MainProcess/INFO] 3 cases completed\n",
      "[MainProcess/INFO] 6 cases completed\n",
      "[MainProcess/INFO] 9 cases completed\n",
      "[MainProcess/INFO] 12 cases completed\n",
      "[MainProcess/INFO] 15 cases completed\n",
      "[MainProcess/INFO] 18 cases completed\n",
      "[MainProcess/INFO] 21 cases completed\n",
      "[MainProcess/INFO] 24 cases completed\n",
      "[MainProcess/INFO] 27 cases completed\n",
      "[MainProcess/INFO] 30 cases completed\n",
      "[MainProcess/INFO] experiments finished\n",
      "[MainProcess/INFO] terminating pool\n"
     ]
    }
   ],
   "source": [
    "from ema_workbench import ema_logging, MultiprocessingEvaluator\n",
    "\n",
    "ema_logging.log_to_stderr(ema_logging.INFO)\n",
    "n_scenarios = 10\n",
    "\n",
    "with MultiprocessingEvaluator(models) as evaluator:\n",
    "    results = evaluator.perform_experiments(n_scenarios)"
   ]
  },
  {
   "cell_type": "code",
   "execution_count": 16,
   "metadata": {},
   "outputs": [
    {
     "data": {
      "text/plain": [
       "array([('model1', 0), ('model1', 1), ('model1', 2), ('model1', 3),\n",
       "       ('model1', 4), ('model1', 5), ('model1', 6), ('model1', 7),\n",
       "       ('model1', 8), ('model1', 9), ('model2', 0), ('model2', 1),\n",
       "       ('model2', 2), ('model2', 3), ('model2', 4), ('model2', 5),\n",
       "       ('model2', 6), ('model2', 7), ('model2', 8), ('model2', 9),\n",
       "       ('model3', 0), ('model3', 1), ('model3', 2), ('model3', 3),\n",
       "       ('model3', 4), ('model3', 5), ('model3', 6), ('model3', 7),\n",
       "       ('model3', 8), ('model3', 9)], \n",
       "      dtype=[('model', 'O'), ('scenario_id', 'O')])"
      ]
     },
     "execution_count": 16,
     "metadata": {},
     "output_type": "execute_result"
    }
   ],
   "source": [
    "experiments, outcomes = results\n",
    "experiments[['model', 'scenario_id']]\n"
   ]
  },
  {
   "cell_type": "code",
   "execution_count": null,
   "metadata": {
    "collapsed": true
   },
   "outputs": [],
   "source": []
  }
 ],
 "metadata": {
  "kernelspec": {
   "display_name": "Python 3",
   "language": "python",
   "name": "python3"
  },
  "language_info": {
   "codemirror_mode": {
    "name": "ipython",
    "version": 3
   },
   "file_extension": ".py",
   "mimetype": "text/x-python",
   "name": "python",
   "nbconvert_exporter": "python",
   "pygments_lexer": "ipython3",
   "version": "3.6.2"
  },
  "latex_envs": {
   "LaTeX_envs_menu_present": true,
   "autocomplete": true,
   "bibliofile": "biblio.bib",
   "cite_by": "apalike",
   "current_citInitial": 1,
   "eqLabelWithNumbers": true,
   "eqNumInitial": 1,
   "hotkeys": {
    "equation": "Ctrl-E",
    "itemize": "Ctrl-I"
   },
   "labels_anchors": false,
   "latex_user_defs": false,
   "report_style_numbering": false,
   "user_envs_cfg": false
  }
 },
 "nbformat": 4,
 "nbformat_minor": 2
}
